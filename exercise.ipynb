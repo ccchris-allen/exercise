{
 "cells": [
  {
   "cell_type": "markdown",
   "metadata": {},
   "source": [
    "<h2>\n",
    "Given the sample data below, assess how the time between a person's start and end date (i.e. 'duration') varies based on the attributes of the person.\n",
    "</h2>"
   ]
  },
  {
   "cell_type": "markdown",
   "metadata": {},
   "source": [
    "<p style='font-size: 14pt;'>\n",
    "First we will load necessary libraries and read the data tables into pandas. \n",
    "</p>"
   ]
  },
  {
   "cell_type": "code",
   "execution_count": 317,
   "metadata": {
    "collapsed": false
   },
   "outputs": [],
   "source": [
    "import pandas as pd\n",
    "import numpy as np\n",
    "import matplotlib.pyplot as plt\n",
    "import statsmodels.api as sm\n",
    "from statsmodels.formula.api import ols\n",
    "\n",
    "%matplotlib inline \n",
    "\n",
    "#set default figure size and use custom style\n",
    "plt.rcParams['figure.figsize'] = (12, 10)\n",
    "plt.style.use('ggplot')"
   ]
  },
  {
   "cell_type": "code",
   "execution_count": 318,
   "metadata": {
    "collapsed": false
   },
   "outputs": [],
   "source": [
    "persons_url = 'http://pastebin.com/raw/sv4cFgts'\n",
    "events_url = 'http://pastebin.com/raw/tQ9r5dBg'\n",
    "\n",
    "#read the two tables as DataFrames\n",
    "persons_df = pd.read_csv(persons_url, index_col='person_id')\n",
    "events_df = pd.read_csv(events_url, parse_dates=['event_date'], index_col='event_id')"
   ]
  },
  {
   "cell_type": "markdown",
   "metadata": {},
   "source": [
    "<p style='font-size: 14pt;'> \n",
    "Before calculating the durations, we should make sure that each person has a 'start' and 'end' event.  We can use pandas to inspect the number of events for each person, which reveals that a subset of persons do not have both 'start' and 'end' events: \n",
    "<p>"
   ]
  },
  {
   "cell_type": "code",
   "execution_count": 319,
   "metadata": {
    "collapsed": false
   },
   "outputs": [
    {
     "name": "stdout",
     "output_type": "stream",
     "text": [
      "           size\n",
      "person_id      \n",
      "1             2\n",
      "2             2\n",
      "3             2\n",
      "4             2\n",
      "5             2\n",
      "6             2\n",
      "7             2\n",
      "8             2\n",
      "9             1\n",
      "10            2\n",
      "11            2\n",
      "12            2\n",
      "13            2\n",
      "14            1\n",
      "15            2\n",
      "16            2\n",
      "17            2\n",
      "18            2\n"
     ]
    }
   ],
   "source": [
    "print events_df.groupby('person_id').size().to_frame('count')"
   ]
  },
  {
   "cell_type": "markdown",
   "metadata": {},
   "source": [
    "<p style='font-size: 14pt;'> \n",
    "There are a number of ways we could deal with this missing data, but in this case we will simply disregard those persons that do not have a 'start' and 'end' event.  Next, we can compute the duration for each person and add this column to the 'persons' table. \n",
    "</p>"
   ]
  },
  {
   "cell_type": "code",
   "execution_count": 320,
   "metadata": {
    "collapsed": false
   },
   "outputs": [],
   "source": [
    "#we need both a 'start' and 'end' date to compute duration, so filter out persons without two entries\n",
    "events_df = events_df.groupby('person_id').filter(lambda group: len(group) == 2)\n",
    "\n",
    "#group by 'person_id' and compute duration\n",
    "durations = events_df.groupby('person_id').apply(lambda group: (group.event_date.max() - group.event_date.min()).days)\n",
    "\n",
    "#join the durations with persons_df\n",
    "persons_df = persons_df.join(durations.to_frame('duration'), how='right')"
   ]
  },
  {
   "cell_type": "markdown",
   "metadata": {},
   "source": [
    "<p style='font-size: 14pt;'> \n",
    "It may be helpful to view the distribution of the durations before performing analysis.  Here we can use a boxplot to view the median values, interquartile range, and outlier points (indicated by blue circles).  If we plot the data on a linear scale (on the left), we only see outlier points (the actual box is too small to view), which suggests that there are significant outliers.  Plotting the data on a log scale (on the right) confirms this suspicion:\n",
    "</p>"
   ]
  },
  {
   "cell_type": "code",
   "execution_count": 321,
   "metadata": {
    "collapsed": false
   },
   "outputs": [
    {
     "data": {
      "image/png": "[encoded data removed]",
      "text/plain": [
       "<matplotlib.figure.Figure at 0x24054ef0>"
      ]
     },
     "metadata": {},
     "output_type": "display_data"
    }
   ],
   "source": [
    "common_args = { 'y': 'duration',\n",
    "         'kind': 'box',\n",
    "         'sym': 'o',\n",
    "         'grid': False\n",
    "        }\n",
    "\n",
    "fig, (ax1, ax2) = plt.subplots(1, 2)\n",
    "\n",
    "persons_df.plot(logy=False, \n",
    "                ax=ax1,      \n",
    "                **common_args)\n",
    "\n",
    "persons_df.plot(logy=True,\n",
    "                ax=ax2, \n",
    "                **common_args)\n",
    "\n",
    "fig.suptitle('Distribution of Durations', fontsize=20)\n",
    "\n",
    "ax1.set_xticklabels('')\n",
    "ax1.set_xlabel('Linear Scale', fontsize=18)\n",
    "\n",
    "ax2.set_xticklabels('')\n",
    "ax2.set_xlabel('Log Scale', fontsize=18);"
   ]
  },
  {
   "cell_type": "markdown",
   "metadata": {},
   "source": [
    "<p style='font-size: 14pt;'> \n",
    "Particularly with smaller datasets, outliers should be investigated to determine if such anomalies are due to human error.  In this case, the most significant outlier had a 'start' date of '1915', which strongly suggests that this data was entered incorrectly.  However, for the purposes of this exercise we will simply filter out outliers:\n",
    "</p>"
   ]
  },
  {
   "cell_type": "code",
   "execution_count": 322,
   "metadata": {
    "collapsed": false
   },
   "outputs": [
    {
     "name": "stdout",
     "output_type": "stream",
     "text": [
      "          region group  duration\n",
      "person_id                       \n",
      "1           west     B        32\n",
      "2           west     A        26\n",
      "3           west     A        30\n",
      "5           east     B        27\n",
      "6           west     C        39\n",
      "7           west     B        34\n",
      "8           east     C        32\n",
      "10          east     A        28\n",
      "11          east     C        33\n",
      "12          east     A        29\n",
      "13          east     C        32\n",
      "15          west     A        23\n",
      "16          east     A        32\n",
      "17          west     C        32\n"
     ]
    }
   ],
   "source": [
    "#get first and third quartiles\n",
    "q1, q3 = persons_df.duration.quantile([0.25, 0.75])\n",
    "\n",
    "#define interquartile range (iqr)\n",
    "iqr = q3 - q1\n",
    "\n",
    "#in the case of Tukey's boxplots, outliers are defined as:\n",
    "not_outlier = lambda val: (q1 - 1.5 * iqr) <= val <= (q3 + 1.5 * iqr)\n",
    "\n",
    "#filter out outliers\n",
    "persons_df = persons_df[persons_df.duration.apply(not_outlier)]\n",
    "\n",
    "print persons_df"
   ]
  },
  {
   "cell_type": "markdown",
   "metadata": {},
   "source": [
    "<p style='font-size: 14pt;'> \n",
    "Now we can perform the actual analysis! Since our goal is to examine the effect of two categorical variables ('group' and 'region') on a continuous variable 'duration', it is helpful to view the differences in the distribution of 'duration' for each of these categories: \n",
    "</p>"
   ]
  },
  {
   "cell_type": "code",
   "execution_count": 323,
   "metadata": {
    "collapsed": false
   },
   "outputs": [
    {
     "data": {
      "image/png": "[encoded data removed]",
      "text/plain": [
       "<matplotlib.figure.Figure at 0x23556cc0>"
      ]
     },
     "metadata": {},
     "output_type": "display_data"
    }
   ],
   "source": [
    "common_args = {\n",
    "         'grid': False\n",
    "        }\n",
    "\n",
    "fig, (ax1, ax2) = plt.subplots(1, 2)\n",
    "\n",
    "persons_df.boxplot(by='group', ax=ax1, **common_args)\n",
    "\n",
    "persons_df.boxplot(by='region', ax=ax2, **common_args)\n",
    "\n",
    "fig.suptitle('Distributions of Durations by Category', fontsize=20)\n",
    "\n",
    "ax1.set_title('')\n",
    "ax1.set_xlabel('groups', fontsize=18)\n",
    "ax1.tick_params(axis='both', which='major', labelsize=14)\n",
    "\n",
    "ax2.set_title('')\n",
    "ax2.set_xlabel('regions', fontsize=18)\n",
    "ax2.tick_params(axis='both', which='major', labelsize=14);"
   ]
  },
  {
   "cell_type": "markdown",
   "metadata": {},
   "source": [
    "<p style='font-size: 14pt;'> \n",
    "To more formally test the significance of these categorical variables on the dependent variable 'duration', we can use two-way ANOVA.  The following gives us the ANOVA results for each categorical variable, as well as the interaction between the two.  We can see in the results table that 'group' is the only variable with a significant p value (.027), which is consistent with the observation in the charts above that 'group' shows more inter-category variation.  \n",
    "</p>"
   ]
  },
  {
   "cell_type": "code",
   "execution_count": 336,
   "metadata": {
    "collapsed": false
   },
   "outputs": [
    {
     "name": "stdout",
     "output_type": "stream",
     "text": [
      "                       sum_sq   df         F    PR(>F)\n",
      "C(group)            87.700141  2.0  5.798356  0.027773\n",
      "C(region)            2.328713  1.0  0.307929  0.594125\n",
      "C(group):C(region)  50.371287  2.0  3.330333  0.088664\n",
      "Residual            60.500000  8.0       NaN       NaN\n"
     ]
    }
   ],
   "source": [
    "model = ols('duration ~ C(group) * C(region)', data=persons_df).fit()\n",
    "anova_results = sm.stats.anova_lm(group_model, typ=2)\n",
    "\n",
    "print anova_results"
   ]
  },
  {
   "cell_type": "markdown",
   "metadata": {},
   "source": [
    "<p style='font-size: 14pt;'> \n",
    "These results are promsing in suggesting that there is a strong relationship between a person's group membership and their duration, but it should be noted that the sample size is here is really too small to make any conclusions. The following output shows the count for each grouping along each categorical variable ('group' and 'region'), as well as the count for the groupings on the combinations of these two. \n",
    "</p>"
   ]
  },
  {
   "cell_type": "code",
   "execution_count": 343,
   "metadata": {
    "collapsed": false
   },
   "outputs": [
    {
     "name": "stdout",
     "output_type": "stream",
     "text": [
      "Counts for grouping on group\n",
      "       count\n",
      "group       \n",
      "A          6\n",
      "B          3\n",
      "C          5 \n",
      "\n",
      "Counts for grouping on region\n",
      "        count\n",
      "region       \n",
      "east        7\n",
      "west        7 \n",
      "\n",
      "Counts for grouping on ['group', 'region']\n",
      "              count\n",
      "group region       \n",
      "A     east        3\n",
      "      west        3\n",
      "B     east        1\n",
      "      west        2\n",
      "C     east        3\n",
      "      west        2 \n",
      "\n"
     ]
    }
   ],
   "source": [
    "groups = ['group', 'region', ['group', 'region']]\n",
    "\n",
    "for group in groups:\n",
    "    print 'Counts for grouping on %s' % str(group)\n",
    "    print persons_df.groupby(group).size().to_frame('count'), '\\n'"
   ]
  },
  {
   "cell_type": "code",
   "execution_count": null,
   "metadata": {
    "collapsed": true
   },
   "outputs": [],
   "source": []
  }
 ],
 "metadata": {
  "kernelspec": {
   "display_name": "Python 2",
   "language": "python",
   "name": "python2"
  },
  "language_info": {
   "codemirror_mode": {
    "name": "ipython",
    "version": 2
   },
   "file_extension": ".py",
   "mimetype": "text/x-python",
   "name": "python",
   "nbconvert_exporter": "python",
   "pygments_lexer": "ipython2",
   "version": "2.7.9"
  }
 },
 "nbformat": 4,
 "nbformat_minor": 0
}
